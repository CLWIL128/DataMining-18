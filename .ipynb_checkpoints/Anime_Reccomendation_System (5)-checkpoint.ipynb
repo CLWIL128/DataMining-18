{
 "cells": [
  {
   "cell_type": "code",
   "execution_count": 65,
   "id": "endless-desktop",
   "metadata": {},
   "outputs": [],
   "source": [
    "import os\n",
    "import numpy as np\n",
    "import matplotlib.pyplot as plt\n",
    "import pandas as pd\n",
    "import sklearn as sk"
   ]
  },
  {
   "cell_type": "code",
   "execution_count": 66,
   "id": "innovative-segment",
   "metadata": {},
   "outputs": [],
   "source": [
    "animeData = pd.read_csv(\"anime_cleaned.csv\", usecols = [2,6,7,15,17,18,20,25,27,28], nrows = 2300) #My computer can only handle 2200, sorry for inconvinience\n",
    "#print(animeData)\n",
    "columns = ['type', 'source', 'score','rank','popularity','favorites','producer', 'studio','genre']\n",
    "#print(animeData['genre'])\n",
    "#hold = pd.get_dummies(genres)\n",
    "#print(hold)\n"
   ]
  },
  {
   "cell_type": "code",
   "execution_count": 67,
   "id": "honey-distance",
   "metadata": {},
   "outputs": [
    {
     "name": "stdout",
     "output_type": "stream",
     "text": [
      "-----------------------------------------\n"
     ]
    },
    {
     "data": {
      "text/plain": [
       "['Comedy',\n",
       " 'Supernatural',\n",
       " 'Romance',\n",
       " 'Shounen',\n",
       " 'Parody',\n",
       " 'School',\n",
       " 'Magic',\n",
       " 'Shoujo',\n",
       " 'Drama',\n",
       " 'Fantasy']"
      ]
     },
     "execution_count": 67,
     "metadata": {},
     "output_type": "execute_result"
    }
   ],
   "source": [
    "#print(animeData.head())\n",
    "#print(animeData.loc[0])\n",
    "#print(type(animeData['genre'].loc[0]))\n",
    "\n",
    "for index, row in animeData.iterrows():\n",
    "    hold = animeData['genre'].loc[index]\n",
    "    hold = hold.replace(\" \",\"\")\n",
    "    animeData['genre'].loc[index] = hold\n",
    "\n",
    "print(\"-----------------------------------------\")\n",
    "\n",
    "#print(animeData['genre'])\n",
    "for index, row in animeData.iterrows():\n",
    "    hold =  (animeData['genre'].loc[index].split(\",\"))\n",
    "    animeData['genre'].loc[index] = hold\n",
    "    #print(animeData['genre'].loc[index])\n",
    "\n",
    "    \n",
    "genreList = []\n",
    "for index, row in animeData.iterrows():\n",
    "    genres = row[\"genre\"]\n",
    "    for genre in genres:\n",
    "        if genre not in genreList:\n",
    "            genreList.append(genre)\n",
    "genreList[:10]\n",
    "# print(genreList)\n",
    "# print(animeData.head) "
   ]
  },
  {
   "cell_type": "markdown",
   "id": "surrounded-gregory",
   "metadata": {},
   "source": [
    "**BUILDING A SIMILARITY MATRIX / BAG OF WORDS**"
   ]
  },
  {
   "cell_type": "code",
   "execution_count": 55,
   "id": "healthy-beatles",
   "metadata": {},
   "outputs": [
    {
     "data": {
      "text/plain": [
       "0    [1, 1, 1, 1, 0, 0, 0, 0, 0, 0, 0, 0, 0, 0, 0, ...\n",
       "1    [1, 0, 1, 1, 1, 1, 0, 0, 0, 0, 0, 0, 0, 0, 0, ...\n",
       "2    [1, 0, 0, 0, 0, 1, 1, 1, 0, 0, 0, 0, 0, 0, 0, ...\n",
       "3    [1, 0, 1, 0, 0, 0, 1, 0, 1, 1, 0, 0, 0, 0, 0, ...\n",
       "4    [1, 0, 1, 1, 0, 0, 0, 0, 1, 0, 0, 0, 0, 0, 0, ...\n",
       "Name: Encodedgenre, dtype: object"
      ]
     },
     "execution_count": 55,
     "metadata": {},
     "output_type": "execute_result"
    }
   ],
   "source": [
    "animeData['Bag_of_words'] = ''\n",
    "columns = ['type', 'source', 'score','rank','popularity','favorites','producer', 'studio','genre']\n",
    "\n",
    "def encodeGenres(GENRES): #Onehot encoding the genres\n",
    "    encoding = []\n",
    "    \n",
    "    for genre in genreList:\n",
    "        if genre in GENRES:\n",
    "            encoding.append(1)\n",
    "        else:\n",
    "            encoding.append(0)\n",
    "    \n",
    "    return encoding\n",
    "\n",
    "animeData['Encodedgenre'] = animeData['genre'].apply(lambda hold: encodeGenres(hold))\n",
    "animeData['Encodedgenre'].head()\n",
    "\n",
    "# for index, row in animeData.iterrows():\n",
    "#     words = []\n",
    "#     for col in columns:\n",
    "#         words.append(row[col])\n",
    "#     #print(words)\n",
    "#     row['Bag_of_words'] = 0\n",
    "    \n",
    "\n",
    "# #print(animeData.head)\n",
    "# # animeData = animeData[['title_english','Bag_of_words']]\n",
    "# # animeData.head\n",
    "# print(animeData['Bag_of_words'])"
   ]
  },
  {
   "cell_type": "code",
   "execution_count": 56,
   "id": "promotional-vanilla",
   "metadata": {},
   "outputs": [],
   "source": [
    "from scipy import spatial\n",
    "\n",
    "hold4 = spatial.distance.cosine(animeData['Encodedgenre'].loc[0],animeData['Encodedgenre'].loc[0])\n",
    "# print(hold4)\n",
    "\n",
    "def CalcSim(anime1_IDX, anime2_IDX): #calcs the similarity between anime for many features\n",
    "    anime1 = animeData.loc[anime1_IDX]\n",
    "    anime2 = animeData.loc[anime2_IDX]\n",
    "    \n",
    "    genres1 = anime1['Encodedgenre']\n",
    "    genres2 = anime2['Encodedgenre']\n",
    "    \n",
    "    genreDistance = spatial.distance.cosine(genres1, genres2)\n",
    "    \n",
    "    score1 = anime1['score']\n",
    "    score2 = anime2['score']\n",
    "    scoreDistance = spatial.distance.cosine(score1, score2)\n",
    "    \n",
    "    direct1 = anime1['popularity']\n",
    "    direct2 = anime2['popularity']\n",
    "    popularityDistance = spatial.distance.cosine(direct1, direct2)\n",
    "    \n",
    "    words1 = anime1['rank']\n",
    "    words2 = anime2['rank']\n",
    "    rankDistance = spatial.distance.cosine(direct1, direct2)\n",
    "    \n",
    "    \n",
    "    return (genreDistance + popularityDistance + scoreDistance + rankDistance)/4\n"
   ]
  },
  {
   "cell_type": "code",
   "execution_count": 57,
   "id": "2b7f4070",
   "metadata": {
    "scrolled": true
   },
   "outputs": [
    {
     "ename": "KeyboardInterrupt",
     "evalue": "",
     "output_type": "error",
     "traceback": [
      "\u001b[1;31m---------------------------------------------------------------------------\u001b[0m",
      "\u001b[1;31mKeyboardInterrupt\u001b[0m                         Traceback (most recent call last)",
      "\u001b[1;32m<ipython-input-57-da7ff7abca51>\u001b[0m in \u001b[0;36m<module>\u001b[1;34m\u001b[0m\n\u001b[0;32m      2\u001b[0m \u001b[1;32mfor\u001b[0m \u001b[0mi\u001b[0m \u001b[1;32min\u001b[0m \u001b[0mrange\u001b[0m\u001b[1;33m(\u001b[0m\u001b[1;36m0\u001b[0m\u001b[1;33m,\u001b[0m\u001b[1;36m2300\u001b[0m\u001b[1;33m)\u001b[0m\u001b[1;33m:\u001b[0m\u001b[1;33m\u001b[0m\u001b[1;33m\u001b[0m\u001b[0m\n\u001b[0;32m      3\u001b[0m     \u001b[1;32mfor\u001b[0m \u001b[0mj\u001b[0m \u001b[1;32min\u001b[0m \u001b[0mrange\u001b[0m\u001b[1;33m(\u001b[0m\u001b[1;36m0\u001b[0m\u001b[1;33m,\u001b[0m\u001b[1;36m2300\u001b[0m\u001b[1;33m)\u001b[0m\u001b[1;33m:\u001b[0m\u001b[1;33m\u001b[0m\u001b[1;33m\u001b[0m\u001b[0m\n\u001b[1;32m----> 4\u001b[1;33m         \u001b[0mSim_Mtx\u001b[0m\u001b[1;33m[\u001b[0m\u001b[0mi\u001b[0m\u001b[1;33m,\u001b[0m\u001b[0mj\u001b[0m\u001b[1;33m]\u001b[0m \u001b[1;33m=\u001b[0m \u001b[0mCalcSim\u001b[0m\u001b[1;33m(\u001b[0m\u001b[0mi\u001b[0m\u001b[1;33m,\u001b[0m\u001b[0mj\u001b[0m\u001b[1;33m)\u001b[0m\u001b[1;33m\u001b[0m\u001b[1;33m\u001b[0m\u001b[0m\n\u001b[0m\u001b[0;32m      5\u001b[0m \u001b[1;33m\u001b[0m\u001b[0m\n\u001b[0;32m      6\u001b[0m \u001b[0mprint\u001b[0m\u001b[1;33m(\u001b[0m\u001b[0mSim_Mtx\u001b[0m\u001b[1;33m)\u001b[0m\u001b[1;33m\u001b[0m\u001b[1;33m\u001b[0m\u001b[0m\n",
      "\u001b[1;32m<ipython-input-56-d3ed1f57dc81>\u001b[0m in \u001b[0;36mCalcSim\u001b[1;34m(anime1_IDX, anime2_IDX)\u001b[0m\n\u001b[0;32m     22\u001b[0m \u001b[1;33m\u001b[0m\u001b[0m\n\u001b[0;32m     23\u001b[0m     \u001b[0mwords1\u001b[0m \u001b[1;33m=\u001b[0m \u001b[0manime1\u001b[0m\u001b[1;33m[\u001b[0m\u001b[1;34m'rank'\u001b[0m\u001b[1;33m]\u001b[0m\u001b[1;33m\u001b[0m\u001b[1;33m\u001b[0m\u001b[0m\n\u001b[1;32m---> 24\u001b[1;33m     \u001b[0mwords2\u001b[0m \u001b[1;33m=\u001b[0m \u001b[0manime2\u001b[0m\u001b[1;33m[\u001b[0m\u001b[1;34m'rank'\u001b[0m\u001b[1;33m]\u001b[0m\u001b[1;33m\u001b[0m\u001b[1;33m\u001b[0m\u001b[0m\n\u001b[0m\u001b[0;32m     25\u001b[0m     \u001b[0mrankDistance\u001b[0m \u001b[1;33m=\u001b[0m \u001b[0mspatial\u001b[0m\u001b[1;33m.\u001b[0m\u001b[0mdistance\u001b[0m\u001b[1;33m.\u001b[0m\u001b[0mcosine\u001b[0m\u001b[1;33m(\u001b[0m\u001b[0mdirect1\u001b[0m\u001b[1;33m,\u001b[0m \u001b[0mdirect2\u001b[0m\u001b[1;33m)\u001b[0m\u001b[1;33m\u001b[0m\u001b[1;33m\u001b[0m\u001b[0m\n\u001b[0;32m     26\u001b[0m \u001b[1;33m\u001b[0m\u001b[0m\n",
      "\u001b[1;32mc:\\users\\ericy\\appdata\\local\\programs\\python\\python38-32\\lib\\site-packages\\pandas\\core\\series.py\u001b[0m in \u001b[0;36m__getitem__\u001b[1;34m(self, key)\u001b[0m\n\u001b[0;32m    851\u001b[0m \u001b[1;33m\u001b[0m\u001b[0m\n\u001b[0;32m    852\u001b[0m         \u001b[1;32melif\u001b[0m \u001b[0mkey_is_scalar\u001b[0m\u001b[1;33m:\u001b[0m\u001b[1;33m\u001b[0m\u001b[1;33m\u001b[0m\u001b[0m\n\u001b[1;32m--> 853\u001b[1;33m             \u001b[1;32mreturn\u001b[0m \u001b[0mself\u001b[0m\u001b[1;33m.\u001b[0m\u001b[0m_get_value\u001b[0m\u001b[1;33m(\u001b[0m\u001b[0mkey\u001b[0m\u001b[1;33m)\u001b[0m\u001b[1;33m\u001b[0m\u001b[1;33m\u001b[0m\u001b[0m\n\u001b[0m\u001b[0;32m    854\u001b[0m \u001b[1;33m\u001b[0m\u001b[0m\n\u001b[0;32m    855\u001b[0m         \u001b[1;32mif\u001b[0m \u001b[0mis_hashable\u001b[0m\u001b[1;33m(\u001b[0m\u001b[0mkey\u001b[0m\u001b[1;33m)\u001b[0m\u001b[1;33m:\u001b[0m\u001b[1;33m\u001b[0m\u001b[1;33m\u001b[0m\u001b[0m\n",
      "\u001b[1;32mc:\\users\\ericy\\appdata\\local\\programs\\python\\python38-32\\lib\\site-packages\\pandas\\core\\series.py\u001b[0m in \u001b[0;36m_get_value\u001b[1;34m(self, label, takeable)\u001b[0m\n\u001b[0;32m    960\u001b[0m         \u001b[1;31m# Similar to Index.get_value, but we do not fall back to positional\u001b[0m\u001b[1;33m\u001b[0m\u001b[1;33m\u001b[0m\u001b[1;33m\u001b[0m\u001b[0m\n\u001b[0;32m    961\u001b[0m         \u001b[0mloc\u001b[0m \u001b[1;33m=\u001b[0m \u001b[0mself\u001b[0m\u001b[1;33m.\u001b[0m\u001b[0mindex\u001b[0m\u001b[1;33m.\u001b[0m\u001b[0mget_loc\u001b[0m\u001b[1;33m(\u001b[0m\u001b[0mlabel\u001b[0m\u001b[1;33m)\u001b[0m\u001b[1;33m\u001b[0m\u001b[1;33m\u001b[0m\u001b[0m\n\u001b[1;32m--> 962\u001b[1;33m         \u001b[1;32mreturn\u001b[0m \u001b[0mself\u001b[0m\u001b[1;33m.\u001b[0m\u001b[0mindex\u001b[0m\u001b[1;33m.\u001b[0m\u001b[0m_get_values_for_loc\u001b[0m\u001b[1;33m(\u001b[0m\u001b[0mself\u001b[0m\u001b[1;33m,\u001b[0m \u001b[0mloc\u001b[0m\u001b[1;33m,\u001b[0m \u001b[0mlabel\u001b[0m\u001b[1;33m)\u001b[0m\u001b[1;33m\u001b[0m\u001b[1;33m\u001b[0m\u001b[0m\n\u001b[0m\u001b[0;32m    963\u001b[0m \u001b[1;33m\u001b[0m\u001b[0m\n\u001b[0;32m    964\u001b[0m     \u001b[1;32mdef\u001b[0m \u001b[0m__setitem__\u001b[0m\u001b[1;33m(\u001b[0m\u001b[0mself\u001b[0m\u001b[1;33m,\u001b[0m \u001b[0mkey\u001b[0m\u001b[1;33m,\u001b[0m \u001b[0mvalue\u001b[0m\u001b[1;33m)\u001b[0m\u001b[1;33m:\u001b[0m\u001b[1;33m\u001b[0m\u001b[1;33m\u001b[0m\u001b[0m\n",
      "\u001b[1;32mc:\\users\\ericy\\appdata\\local\\programs\\python\\python38-32\\lib\\site-packages\\pandas\\core\\indexes\\base.py\u001b[0m in \u001b[0;36m_get_values_for_loc\u001b[1;34m(self, series, loc, key)\u001b[0m\n\u001b[0;32m   4853\u001b[0m         \"\"\"\n\u001b[0;32m   4854\u001b[0m         \u001b[1;32mif\u001b[0m \u001b[0mis_integer\u001b[0m\u001b[1;33m(\u001b[0m\u001b[0mloc\u001b[0m\u001b[1;33m)\u001b[0m\u001b[1;33m:\u001b[0m\u001b[1;33m\u001b[0m\u001b[1;33m\u001b[0m\u001b[0m\n\u001b[1;32m-> 4855\u001b[1;33m             \u001b[1;32mreturn\u001b[0m \u001b[0mseries\u001b[0m\u001b[1;33m.\u001b[0m\u001b[0m_values\u001b[0m\u001b[1;33m[\u001b[0m\u001b[0mloc\u001b[0m\u001b[1;33m]\u001b[0m\u001b[1;33m\u001b[0m\u001b[1;33m\u001b[0m\u001b[0m\n\u001b[0m\u001b[0;32m   4856\u001b[0m \u001b[1;33m\u001b[0m\u001b[0m\n\u001b[0;32m   4857\u001b[0m         \u001b[1;32mreturn\u001b[0m \u001b[0mseries\u001b[0m\u001b[1;33m.\u001b[0m\u001b[0miloc\u001b[0m\u001b[1;33m[\u001b[0m\u001b[0mloc\u001b[0m\u001b[1;33m]\u001b[0m\u001b[1;33m\u001b[0m\u001b[1;33m\u001b[0m\u001b[0m\n",
      "\u001b[1;32mc:\\users\\ericy\\appdata\\local\\programs\\python\\python38-32\\lib\\site-packages\\pandas\\core\\series.py\u001b[0m in \u001b[0;36m_values\u001b[1;34m(self)\u001b[0m\n\u001b[0;32m    615\u001b[0m \u001b[1;33m\u001b[0m\u001b[0m\n\u001b[0;32m    616\u001b[0m         \"\"\"\n\u001b[1;32m--> 617\u001b[1;33m         \u001b[1;32mreturn\u001b[0m \u001b[0mself\u001b[0m\u001b[1;33m.\u001b[0m\u001b[0m_mgr\u001b[0m\u001b[1;33m.\u001b[0m\u001b[0minternal_values\u001b[0m\u001b[1;33m(\u001b[0m\u001b[1;33m)\u001b[0m\u001b[1;33m\u001b[0m\u001b[1;33m\u001b[0m\u001b[0m\n\u001b[0m\u001b[0;32m    618\u001b[0m \u001b[1;33m\u001b[0m\u001b[0m\n\u001b[0;32m    619\u001b[0m     \u001b[1;31m# error: Decorated property not supported\u001b[0m\u001b[1;33m\u001b[0m\u001b[1;33m\u001b[0m\u001b[1;33m\u001b[0m\u001b[0m\n",
      "\u001b[1;32mc:\\users\\ericy\\appdata\\local\\programs\\python\\python38-32\\lib\\site-packages\\pandas\\core\\internals\\managers.py\u001b[0m in \u001b[0;36minternal_values\u001b[1;34m(self)\u001b[0m\n\u001b[0;32m   1626\u001b[0m     \u001b[1;32mdef\u001b[0m \u001b[0minternal_values\u001b[0m\u001b[1;33m(\u001b[0m\u001b[0mself\u001b[0m\u001b[1;33m)\u001b[0m\u001b[1;33m:\u001b[0m\u001b[1;33m\u001b[0m\u001b[1;33m\u001b[0m\u001b[0m\n\u001b[0;32m   1627\u001b[0m         \u001b[1;34m\"\"\"The array that Series._values returns\"\"\"\u001b[0m\u001b[1;33m\u001b[0m\u001b[1;33m\u001b[0m\u001b[0m\n\u001b[1;32m-> 1628\u001b[1;33m         \u001b[1;32mreturn\u001b[0m \u001b[0mself\u001b[0m\u001b[1;33m.\u001b[0m\u001b[0m_block\u001b[0m\u001b[1;33m.\u001b[0m\u001b[0minternal_values\u001b[0m\u001b[1;33m(\u001b[0m\u001b[1;33m)\u001b[0m\u001b[1;33m\u001b[0m\u001b[1;33m\u001b[0m\u001b[0m\n\u001b[0m\u001b[0;32m   1629\u001b[0m \u001b[1;33m\u001b[0m\u001b[0m\n\u001b[0;32m   1630\u001b[0m     \u001b[1;33m@\u001b[0m\u001b[0mproperty\u001b[0m\u001b[1;33m\u001b[0m\u001b[1;33m\u001b[0m\u001b[0m\n",
      "\u001b[1;31mKeyboardInterrupt\u001b[0m: "
     ]
    }
   ],
   "source": [
    "Sim_Mtx = np.zeros((2300, 2300))\n",
    "for i in range(0,2300):\n",
    "    for j in range(0,2300):\n",
    "        Sim_Mtx[i,j] = CalcSim(i,j)\n",
    "        \n",
    "print(Sim_Mtx)"
   ]
  },
  {
   "cell_type": "code",
   "execution_count": null,
   "id": "prepared-concentrate",
   "metadata": {
    "scrolled": true
   },
   "outputs": [],
   "source": [
    "def ReferAnime(anime, k=3):\n",
    "    Sim_Mtx[anime, anime] = 1\n",
    "    Sim_row = Sim_Mtx[anime]\n",
    "    temp = np.sort(Sim_row)\n",
    "    \n",
    "    return temp[0:k]\n",
    "\n",
    "ReferAnime(663, k = 3)"
   ]
  },
  {
   "cell_type": "code",
   "execution_count": null,
   "id": "45dde1c8",
   "metadata": {},
   "outputs": [],
   "source": []
  }
 ],
 "metadata": {
  "kernelspec": {
   "display_name": "Python 3",
   "language": "python",
   "name": "python3"
  },
  "language_info": {
   "codemirror_mode": {
    "name": "ipython",
    "version": 3
   },
   "file_extension": ".py",
   "mimetype": "text/x-python",
   "name": "python",
   "nbconvert_exporter": "python",
   "pygments_lexer": "ipython3",
   "version": "3.8.3"
  }
 },
 "nbformat": 4,
 "nbformat_minor": 5
}
